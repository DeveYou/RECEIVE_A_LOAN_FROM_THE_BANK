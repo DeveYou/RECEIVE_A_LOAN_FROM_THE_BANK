{
  "cells": [
    {
      "cell_type": "markdown",
      "metadata": {
        "id": "ZAAK-boROHcR"
      },
      "source": [
        "# <center style = 'color : white'>**RECEIVE A LOAN FROM THE BANK**</center>"
      ]
    },
    {
      "cell_type": "code",
      "execution_count": 1,
      "metadata": {
        "id": "y3QKLrWeBQGc"
      },
      "outputs": [],
      "source": [
        "import pandas as pd\n",
        "import numpy as np"
      ]
    },
    {
      "cell_type": "markdown",
      "metadata": {
        "id": "jQMNatYndjFI"
      },
      "source": [
        "## <center>**Data preprocessing**</center>"
      ]
    },
    {
      "cell_type": "code",
      "execution_count": 3,
      "metadata": {
        "colab": {
          "base_uri": "https://localhost:8080/",
          "height": 403
        },
        "id": "Gz63_x8ZBsBs",
        "outputId": "f816cbce-606c-4f4c-cbda-95601d533164"
      },
      "outputs": [
        {
          "output_type": "execute_result",
          "data": {
            "text/plain": [
              "  status of existing checking account  Duration in months Credit History  \\\n",
              "0                                 A11                   6            A34   \n",
              "1                                 A12                  48            A32   \n",
              "2                                 A14                  12            A34   \n",
              "3                                 A11                  42            A32   \n",
              "4                                 A11                  24            A33   \n",
              "\n",
              "  Purpose  Credit Amount Savings account/bonds Present employement since  \\\n",
              "0     A43           1169                   A65                       A75   \n",
              "1     A43           5951                   A61                       A73   \n",
              "2     A46           2096                   A61                       A74   \n",
              "3     A42           7882                   A61                       A74   \n",
              "4     A40           4870                   A61                       A73   \n",
              "\n",
              "   installement rate in percentage of disposable income  \\\n",
              "0                                                  4      \n",
              "1                                                  2      \n",
              "2                                                  2      \n",
              "3                                                  2      \n",
              "4                                                  3      \n",
              "\n",
              "  Personal status and sex other debtors/guarantors  ...  Property  \\\n",
              "0                     A93                     A101  ...      A121   \n",
              "1                     A92                     A101  ...      A121   \n",
              "2                     A93                     A101  ...      A121   \n",
              "3                     A93                     A103  ...      A122   \n",
              "4                     A93                     A101  ...      A124   \n",
              "\n",
              "  Age in years  other installment plans Housing  \\\n",
              "0           67                     A143    A152   \n",
              "1           22                     A143    A152   \n",
              "2           49                     A143    A152   \n",
              "3           45                     A143    A153   \n",
              "4           53                     A143    A153   \n",
              "\n",
              "  Number of existing credits at this bank   Job  \\\n",
              "0                                       2  A173   \n",
              "1                                       1  A173   \n",
              "2                                       1  A172   \n",
              "3                                       1  A173   \n",
              "4                                       2  A173   \n",
              "\n",
              "  Number of people being liable to provide maintenance for  Telephone  \\\n",
              "0                                                  1             A192   \n",
              "1                                                  1             A191   \n",
              "2                                                  2             A191   \n",
              "3                                                  2             A191   \n",
              "4                                                  2             A191   \n",
              "\n",
              "  foreign worker label  \n",
              "0           A201     1  \n",
              "1           A201     2  \n",
              "2           A201     1  \n",
              "3           A201     1  \n",
              "4           A201     2  \n",
              "\n",
              "[5 rows x 21 columns]"
            ],
            "text/html": [
              "\n",
              "  <div id=\"df-fc7fb99f-a6ae-466c-9072-4efe69c59831\">\n",
              "    <div class=\"colab-df-container\">\n",
              "      <div>\n",
              "<style scoped>\n",
              "    .dataframe tbody tr th:only-of-type {\n",
              "        vertical-align: middle;\n",
              "    }\n",
              "\n",
              "    .dataframe tbody tr th {\n",
              "        vertical-align: top;\n",
              "    }\n",
              "\n",
              "    .dataframe thead th {\n",
              "        text-align: right;\n",
              "    }\n",
              "</style>\n",
              "<table border=\"1\" class=\"dataframe\">\n",
              "  <thead>\n",
              "    <tr style=\"text-align: right;\">\n",
              "      <th></th>\n",
              "      <th>status of existing checking account</th>\n",
              "      <th>Duration in months</th>\n",
              "      <th>Credit History</th>\n",
              "      <th>Purpose</th>\n",
              "      <th>Credit Amount</th>\n",
              "      <th>Savings account/bonds</th>\n",
              "      <th>Present employement since</th>\n",
              "      <th>installement rate in percentage of disposable income</th>\n",
              "      <th>Personal status and sex</th>\n",
              "      <th>other debtors/guarantors</th>\n",
              "      <th>...</th>\n",
              "      <th>Property</th>\n",
              "      <th>Age in years</th>\n",
              "      <th>other installment plans</th>\n",
              "      <th>Housing</th>\n",
              "      <th>Number of existing credits at this bank</th>\n",
              "      <th>Job</th>\n",
              "      <th>Number of people being liable to provide maintenance for</th>\n",
              "      <th>Telephone</th>\n",
              "      <th>foreign worker</th>\n",
              "      <th>label</th>\n",
              "    </tr>\n",
              "  </thead>\n",
              "  <tbody>\n",
              "    <tr>\n",
              "      <th>0</th>\n",
              "      <td>A11</td>\n",
              "      <td>6</td>\n",
              "      <td>A34</td>\n",
              "      <td>A43</td>\n",
              "      <td>1169</td>\n",
              "      <td>A65</td>\n",
              "      <td>A75</td>\n",
              "      <td>4</td>\n",
              "      <td>A93</td>\n",
              "      <td>A101</td>\n",
              "      <td>...</td>\n",
              "      <td>A121</td>\n",
              "      <td>67</td>\n",
              "      <td>A143</td>\n",
              "      <td>A152</td>\n",
              "      <td>2</td>\n",
              "      <td>A173</td>\n",
              "      <td>1</td>\n",
              "      <td>A192</td>\n",
              "      <td>A201</td>\n",
              "      <td>1</td>\n",
              "    </tr>\n",
              "    <tr>\n",
              "      <th>1</th>\n",
              "      <td>A12</td>\n",
              "      <td>48</td>\n",
              "      <td>A32</td>\n",
              "      <td>A43</td>\n",
              "      <td>5951</td>\n",
              "      <td>A61</td>\n",
              "      <td>A73</td>\n",
              "      <td>2</td>\n",
              "      <td>A92</td>\n",
              "      <td>A101</td>\n",
              "      <td>...</td>\n",
              "      <td>A121</td>\n",
              "      <td>22</td>\n",
              "      <td>A143</td>\n",
              "      <td>A152</td>\n",
              "      <td>1</td>\n",
              "      <td>A173</td>\n",
              "      <td>1</td>\n",
              "      <td>A191</td>\n",
              "      <td>A201</td>\n",
              "      <td>2</td>\n",
              "    </tr>\n",
              "    <tr>\n",
              "      <th>2</th>\n",
              "      <td>A14</td>\n",
              "      <td>12</td>\n",
              "      <td>A34</td>\n",
              "      <td>A46</td>\n",
              "      <td>2096</td>\n",
              "      <td>A61</td>\n",
              "      <td>A74</td>\n",
              "      <td>2</td>\n",
              "      <td>A93</td>\n",
              "      <td>A101</td>\n",
              "      <td>...</td>\n",
              "      <td>A121</td>\n",
              "      <td>49</td>\n",
              "      <td>A143</td>\n",
              "      <td>A152</td>\n",
              "      <td>1</td>\n",
              "      <td>A172</td>\n",
              "      <td>2</td>\n",
              "      <td>A191</td>\n",
              "      <td>A201</td>\n",
              "      <td>1</td>\n",
              "    </tr>\n",
              "    <tr>\n",
              "      <th>3</th>\n",
              "      <td>A11</td>\n",
              "      <td>42</td>\n",
              "      <td>A32</td>\n",
              "      <td>A42</td>\n",
              "      <td>7882</td>\n",
              "      <td>A61</td>\n",
              "      <td>A74</td>\n",
              "      <td>2</td>\n",
              "      <td>A93</td>\n",
              "      <td>A103</td>\n",
              "      <td>...</td>\n",
              "      <td>A122</td>\n",
              "      <td>45</td>\n",
              "      <td>A143</td>\n",
              "      <td>A153</td>\n",
              "      <td>1</td>\n",
              "      <td>A173</td>\n",
              "      <td>2</td>\n",
              "      <td>A191</td>\n",
              "      <td>A201</td>\n",
              "      <td>1</td>\n",
              "    </tr>\n",
              "    <tr>\n",
              "      <th>4</th>\n",
              "      <td>A11</td>\n",
              "      <td>24</td>\n",
              "      <td>A33</td>\n",
              "      <td>A40</td>\n",
              "      <td>4870</td>\n",
              "      <td>A61</td>\n",
              "      <td>A73</td>\n",
              "      <td>3</td>\n",
              "      <td>A93</td>\n",
              "      <td>A101</td>\n",
              "      <td>...</td>\n",
              "      <td>A124</td>\n",
              "      <td>53</td>\n",
              "      <td>A143</td>\n",
              "      <td>A153</td>\n",
              "      <td>2</td>\n",
              "      <td>A173</td>\n",
              "      <td>2</td>\n",
              "      <td>A191</td>\n",
              "      <td>A201</td>\n",
              "      <td>2</td>\n",
              "    </tr>\n",
              "  </tbody>\n",
              "</table>\n",
              "<p>5 rows × 21 columns</p>\n",
              "</div>\n",
              "      <button class=\"colab-df-convert\" onclick=\"convertToInteractive('df-fc7fb99f-a6ae-466c-9072-4efe69c59831')\"\n",
              "              title=\"Convert this dataframe to an interactive table.\"\n",
              "              style=\"display:none;\">\n",
              "        \n",
              "  <svg xmlns=\"http://www.w3.org/2000/svg\" height=\"24px\"viewBox=\"0 0 24 24\"\n",
              "       width=\"24px\">\n",
              "    <path d=\"M0 0h24v24H0V0z\" fill=\"none\"/>\n",
              "    <path d=\"M18.56 5.44l.94 2.06.94-2.06 2.06-.94-2.06-.94-.94-2.06-.94 2.06-2.06.94zm-11 1L8.5 8.5l.94-2.06 2.06-.94-2.06-.94L8.5 2.5l-.94 2.06-2.06.94zm10 10l.94 2.06.94-2.06 2.06-.94-2.06-.94-.94-2.06-.94 2.06-2.06.94z\"/><path d=\"M17.41 7.96l-1.37-1.37c-.4-.4-.92-.59-1.43-.59-.52 0-1.04.2-1.43.59L10.3 9.45l-7.72 7.72c-.78.78-.78 2.05 0 2.83L4 21.41c.39.39.9.59 1.41.59.51 0 1.02-.2 1.41-.59l7.78-7.78 2.81-2.81c.8-.78.8-2.07 0-2.86zM5.41 20L4 18.59l7.72-7.72 1.47 1.35L5.41 20z\"/>\n",
              "  </svg>\n",
              "      </button>\n",
              "      \n",
              "  <style>\n",
              "    .colab-df-container {\n",
              "      display:flex;\n",
              "      flex-wrap:wrap;\n",
              "      gap: 12px;\n",
              "    }\n",
              "\n",
              "    .colab-df-convert {\n",
              "      background-color: #E8F0FE;\n",
              "      border: none;\n",
              "      border-radius: 50%;\n",
              "      cursor: pointer;\n",
              "      display: none;\n",
              "      fill: #1967D2;\n",
              "      height: 32px;\n",
              "      padding: 0 0 0 0;\n",
              "      width: 32px;\n",
              "    }\n",
              "\n",
              "    .colab-df-convert:hover {\n",
              "      background-color: #E2EBFA;\n",
              "      box-shadow: 0px 1px 2px rgba(60, 64, 67, 0.3), 0px 1px 3px 1px rgba(60, 64, 67, 0.15);\n",
              "      fill: #174EA6;\n",
              "    }\n",
              "\n",
              "    [theme=dark] .colab-df-convert {\n",
              "      background-color: #3B4455;\n",
              "      fill: #D2E3FC;\n",
              "    }\n",
              "\n",
              "    [theme=dark] .colab-df-convert:hover {\n",
              "      background-color: #434B5C;\n",
              "      box-shadow: 0px 1px 3px 1px rgba(0, 0, 0, 0.15);\n",
              "      filter: drop-shadow(0px 1px 2px rgba(0, 0, 0, 0.3));\n",
              "      fill: #FFFFFF;\n",
              "    }\n",
              "  </style>\n",
              "\n",
              "      <script>\n",
              "        const buttonEl =\n",
              "          document.querySelector('#df-fc7fb99f-a6ae-466c-9072-4efe69c59831 button.colab-df-convert');\n",
              "        buttonEl.style.display =\n",
              "          google.colab.kernel.accessAllowed ? 'block' : 'none';\n",
              "\n",
              "        async function convertToInteractive(key) {\n",
              "          const element = document.querySelector('#df-fc7fb99f-a6ae-466c-9072-4efe69c59831');\n",
              "          const dataTable =\n",
              "            await google.colab.kernel.invokeFunction('convertToInteractive',\n",
              "                                                     [key], {});\n",
              "          if (!dataTable) return;\n",
              "\n",
              "          const docLinkHtml = 'Like what you see? Visit the ' +\n",
              "            '<a target=\"_blank\" href=https://colab.research.google.com/notebooks/data_table.ipynb>data table notebook</a>'\n",
              "            + ' to learn more about interactive tables.';\n",
              "          element.innerHTML = '';\n",
              "          dataTable['output_type'] = 'display_data';\n",
              "          await google.colab.output.renderOutput(dataTable, element);\n",
              "          const docLink = document.createElement('div');\n",
              "          docLink.innerHTML = docLinkHtml;\n",
              "          element.appendChild(docLink);\n",
              "        }\n",
              "      </script>\n",
              "    </div>\n",
              "  </div>\n",
              "  "
            ]
          },
          "metadata": {},
          "execution_count": 3
        }
      ],
      "source": [
        "# loading the dataset\n",
        "db = pd.read_csv(\"german.csv\", names = ['status of existing checking account','Duration in months','Credit History','Purpose','Credit Amount','Savings account/bonds','Present employement since','installement rate in percentage of disposable income','Personal status and sex','other debtors/guarantors','present residence since','Property','Age in years','other installment plans', 'Housing', 'Number of existing credits at this bank', 'Job', 'Number of people being liable to provide maintenance for', 'Telephone', 'foreign worker', 'label'])\n",
        "db.head()"
      ]
    },
    {
      "cell_type": "code",
      "execution_count": null,
      "metadata": {
        "colab": {
          "base_uri": "https://localhost:8080/"
        },
        "id": "bjixG3k67aEo",
        "outputId": "62c09822-eaa7-4e9f-dace-bee60f1ac841"
      },
      "outputs": [
        {
          "data": {
            "text/plain": [
              "A14    394\n",
              "A11    274\n",
              "A12    269\n",
              "A13     63\n",
              "Name: status of existing checking account, dtype: int64"
            ]
          },
          "execution_count": 62,
          "metadata": {},
          "output_type": "execute_result"
        }
      ],
      "source": [
        "db['status of existing checking account'].value_counts()"
      ]
    },
    {
      "cell_type": "code",
      "execution_count": null,
      "metadata": {
        "colab": {
          "base_uri": "https://localhost:8080/"
        },
        "id": "e1XANflECuVI",
        "outputId": "258b46ac-73a6-4fd0-b12e-400e81d16ae0"
      },
      "outputs": [
        {
          "name": "stdout",
          "output_type": "stream",
          "text": [
            "<class 'pandas.core.frame.DataFrame'>\n",
            "RangeIndex: 1000 entries, 0 to 999\n",
            "Data columns (total 21 columns):\n",
            " #   Column                                                    Non-Null Count  Dtype \n",
            "---  ------                                                    --------------  ----- \n",
            " 0   status of existing checking account                       1000 non-null   object\n",
            " 1   Duration in months                                        1000 non-null   int64 \n",
            " 2   Credit History                                            1000 non-null   object\n",
            " 3   Purpose                                                   1000 non-null   object\n",
            " 4   Credit Amount                                             1000 non-null   int64 \n",
            " 5   Savings account/bonds                                     1000 non-null   object\n",
            " 6   Present employement since                                 1000 non-null   object\n",
            " 7   installement rate in percentage of disposable income      1000 non-null   int64 \n",
            " 8   Personal status and sex                                   1000 non-null   object\n",
            " 9   other debtors/guarantors                                  1000 non-null   object\n",
            " 10  present residence since                                   1000 non-null   int64 \n",
            " 11  Property                                                  1000 non-null   object\n",
            " 12  Age in years                                              1000 non-null   int64 \n",
            " 13  other installment plans                                   1000 non-null   object\n",
            " 14  Housing                                                   1000 non-null   object\n",
            " 15  Number of existing credits at this bank                   1000 non-null   int64 \n",
            " 16  Job                                                       1000 non-null   object\n",
            " 17  Number of people being liable to provide maintenance for  1000 non-null   int64 \n",
            " 18  Telephone                                                 1000 non-null   object\n",
            " 19  foreign worker                                            1000 non-null   object\n",
            " 20  label                                                     1000 non-null   int64 \n",
            "dtypes: int64(8), object(13)\n",
            "memory usage: 164.2+ KB\n"
          ]
        }
      ],
      "source": [
        "# display some information about dataset\n",
        "db.info()"
      ]
    },
    {
      "cell_type": "code",
      "execution_count": null,
      "metadata": {
        "colab": {
          "base_uri": "https://localhost:8080/",
          "height": 361
        },
        "id": "vWEn7cuTDKAG",
        "outputId": "123c443a-f11b-4d2f-9dc9-d2d83e7a9879"
      },
      "outputs": [
        {
          "data": {
            "text/html": [
              "\n",
              "  <div id=\"df-ad2eab6a-e04e-4b62-944c-522fec2d6e3a\">\n",
              "    <div class=\"colab-df-container\">\n",
              "      <div>\n",
              "<style scoped>\n",
              "    .dataframe tbody tr th:only-of-type {\n",
              "        vertical-align: middle;\n",
              "    }\n",
              "\n",
              "    .dataframe tbody tr th {\n",
              "        vertical-align: top;\n",
              "    }\n",
              "\n",
              "    .dataframe thead th {\n",
              "        text-align: right;\n",
              "    }\n",
              "</style>\n",
              "<table border=\"1\" class=\"dataframe\">\n",
              "  <thead>\n",
              "    <tr style=\"text-align: right;\">\n",
              "      <th></th>\n",
              "      <th>Duration in months</th>\n",
              "      <th>Credit Amount</th>\n",
              "      <th>installement rate in percentage of disposable income</th>\n",
              "      <th>present residence since</th>\n",
              "      <th>Age in years</th>\n",
              "      <th>Number of existing credits at this bank</th>\n",
              "      <th>Number of people being liable to provide maintenance for</th>\n",
              "      <th>label</th>\n",
              "    </tr>\n",
              "  </thead>\n",
              "  <tbody>\n",
              "    <tr>\n",
              "      <th>count</th>\n",
              "      <td>1000.000000</td>\n",
              "      <td>1000.000000</td>\n",
              "      <td>1000.000000</td>\n",
              "      <td>1000.000000</td>\n",
              "      <td>1000.000000</td>\n",
              "      <td>1000.000000</td>\n",
              "      <td>1000.000000</td>\n",
              "      <td>1000.000000</td>\n",
              "    </tr>\n",
              "    <tr>\n",
              "      <th>mean</th>\n",
              "      <td>20.903000</td>\n",
              "      <td>3271.258000</td>\n",
              "      <td>2.973000</td>\n",
              "      <td>2.845000</td>\n",
              "      <td>35.546000</td>\n",
              "      <td>1.407000</td>\n",
              "      <td>1.155000</td>\n",
              "      <td>1.300000</td>\n",
              "    </tr>\n",
              "    <tr>\n",
              "      <th>std</th>\n",
              "      <td>12.058814</td>\n",
              "      <td>2822.736876</td>\n",
              "      <td>1.118715</td>\n",
              "      <td>1.103718</td>\n",
              "      <td>11.375469</td>\n",
              "      <td>0.577654</td>\n",
              "      <td>0.362086</td>\n",
              "      <td>0.458487</td>\n",
              "    </tr>\n",
              "    <tr>\n",
              "      <th>min</th>\n",
              "      <td>4.000000</td>\n",
              "      <td>250.000000</td>\n",
              "      <td>1.000000</td>\n",
              "      <td>1.000000</td>\n",
              "      <td>19.000000</td>\n",
              "      <td>1.000000</td>\n",
              "      <td>1.000000</td>\n",
              "      <td>1.000000</td>\n",
              "    </tr>\n",
              "    <tr>\n",
              "      <th>25%</th>\n",
              "      <td>12.000000</td>\n",
              "      <td>1365.500000</td>\n",
              "      <td>2.000000</td>\n",
              "      <td>2.000000</td>\n",
              "      <td>27.000000</td>\n",
              "      <td>1.000000</td>\n",
              "      <td>1.000000</td>\n",
              "      <td>1.000000</td>\n",
              "    </tr>\n",
              "    <tr>\n",
              "      <th>50%</th>\n",
              "      <td>18.000000</td>\n",
              "      <td>2319.500000</td>\n",
              "      <td>3.000000</td>\n",
              "      <td>3.000000</td>\n",
              "      <td>33.000000</td>\n",
              "      <td>1.000000</td>\n",
              "      <td>1.000000</td>\n",
              "      <td>1.000000</td>\n",
              "    </tr>\n",
              "    <tr>\n",
              "      <th>75%</th>\n",
              "      <td>24.000000</td>\n",
              "      <td>3972.250000</td>\n",
              "      <td>4.000000</td>\n",
              "      <td>4.000000</td>\n",
              "      <td>42.000000</td>\n",
              "      <td>2.000000</td>\n",
              "      <td>1.000000</td>\n",
              "      <td>2.000000</td>\n",
              "    </tr>\n",
              "    <tr>\n",
              "      <th>max</th>\n",
              "      <td>72.000000</td>\n",
              "      <td>18424.000000</td>\n",
              "      <td>4.000000</td>\n",
              "      <td>4.000000</td>\n",
              "      <td>75.000000</td>\n",
              "      <td>4.000000</td>\n",
              "      <td>2.000000</td>\n",
              "      <td>2.000000</td>\n",
              "    </tr>\n",
              "  </tbody>\n",
              "</table>\n",
              "</div>\n",
              "      <button class=\"colab-df-convert\" onclick=\"convertToInteractive('df-ad2eab6a-e04e-4b62-944c-522fec2d6e3a')\"\n",
              "              title=\"Convert this dataframe to an interactive table.\"\n",
              "              style=\"display:none;\">\n",
              "        \n",
              "  <svg xmlns=\"http://www.w3.org/2000/svg\" height=\"24px\"viewBox=\"0 0 24 24\"\n",
              "       width=\"24px\">\n",
              "    <path d=\"M0 0h24v24H0V0z\" fill=\"none\"/>\n",
              "    <path d=\"M18.56 5.44l.94 2.06.94-2.06 2.06-.94-2.06-.94-.94-2.06-.94 2.06-2.06.94zm-11 1L8.5 8.5l.94-2.06 2.06-.94-2.06-.94L8.5 2.5l-.94 2.06-2.06.94zm10 10l.94 2.06.94-2.06 2.06-.94-2.06-.94-.94-2.06-.94 2.06-2.06.94z\"/><path d=\"M17.41 7.96l-1.37-1.37c-.4-.4-.92-.59-1.43-.59-.52 0-1.04.2-1.43.59L10.3 9.45l-7.72 7.72c-.78.78-.78 2.05 0 2.83L4 21.41c.39.39.9.59 1.41.59.51 0 1.02-.2 1.41-.59l7.78-7.78 2.81-2.81c.8-.78.8-2.07 0-2.86zM5.41 20L4 18.59l7.72-7.72 1.47 1.35L5.41 20z\"/>\n",
              "  </svg>\n",
              "      </button>\n",
              "      \n",
              "  <style>\n",
              "    .colab-df-container {\n",
              "      display:flex;\n",
              "      flex-wrap:wrap;\n",
              "      gap: 12px;\n",
              "    }\n",
              "\n",
              "    .colab-df-convert {\n",
              "      background-color: #E8F0FE;\n",
              "      border: none;\n",
              "      border-radius: 50%;\n",
              "      cursor: pointer;\n",
              "      display: none;\n",
              "      fill: #1967D2;\n",
              "      height: 32px;\n",
              "      padding: 0 0 0 0;\n",
              "      width: 32px;\n",
              "    }\n",
              "\n",
              "    .colab-df-convert:hover {\n",
              "      background-color: #E2EBFA;\n",
              "      box-shadow: 0px 1px 2px rgba(60, 64, 67, 0.3), 0px 1px 3px 1px rgba(60, 64, 67, 0.15);\n",
              "      fill: #174EA6;\n",
              "    }\n",
              "\n",
              "    [theme=dark] .colab-df-convert {\n",
              "      background-color: #3B4455;\n",
              "      fill: #D2E3FC;\n",
              "    }\n",
              "\n",
              "    [theme=dark] .colab-df-convert:hover {\n",
              "      background-color: #434B5C;\n",
              "      box-shadow: 0px 1px 3px 1px rgba(0, 0, 0, 0.15);\n",
              "      filter: drop-shadow(0px 1px 2px rgba(0, 0, 0, 0.3));\n",
              "      fill: #FFFFFF;\n",
              "    }\n",
              "  </style>\n",
              "\n",
              "      <script>\n",
              "        const buttonEl =\n",
              "          document.querySelector('#df-ad2eab6a-e04e-4b62-944c-522fec2d6e3a button.colab-df-convert');\n",
              "        buttonEl.style.display =\n",
              "          google.colab.kernel.accessAllowed ? 'block' : 'none';\n",
              "\n",
              "        async function convertToInteractive(key) {\n",
              "          const element = document.querySelector('#df-ad2eab6a-e04e-4b62-944c-522fec2d6e3a');\n",
              "          const dataTable =\n",
              "            await google.colab.kernel.invokeFunction('convertToInteractive',\n",
              "                                                     [key], {});\n",
              "          if (!dataTable) return;\n",
              "\n",
              "          const docLinkHtml = 'Like what you see? Visit the ' +\n",
              "            '<a target=\"_blank\" href=https://colab.research.google.com/notebooks/data_table.ipynb>data table notebook</a>'\n",
              "            + ' to learn more about interactive tables.';\n",
              "          element.innerHTML = '';\n",
              "          dataTable['output_type'] = 'display_data';\n",
              "          await google.colab.output.renderOutput(dataTable, element);\n",
              "          const docLink = document.createElement('div');\n",
              "          docLink.innerHTML = docLinkHtml;\n",
              "          element.appendChild(docLink);\n",
              "        }\n",
              "      </script>\n",
              "    </div>\n",
              "  </div>\n",
              "  "
            ],
            "text/plain": [
              "       Duration in months  Credit Amount  \\\n",
              "count         1000.000000    1000.000000   \n",
              "mean            20.903000    3271.258000   \n",
              "std             12.058814    2822.736876   \n",
              "min              4.000000     250.000000   \n",
              "25%             12.000000    1365.500000   \n",
              "50%             18.000000    2319.500000   \n",
              "75%             24.000000    3972.250000   \n",
              "max             72.000000   18424.000000   \n",
              "\n",
              "       installement rate in percentage of disposable income  \\\n",
              "count                                        1000.000000      \n",
              "mean                                            2.973000      \n",
              "std                                             1.118715      \n",
              "min                                             1.000000      \n",
              "25%                                             2.000000      \n",
              "50%                                             3.000000      \n",
              "75%                                             4.000000      \n",
              "max                                             4.000000      \n",
              "\n",
              "       present residence since  Age in years  \\\n",
              "count              1000.000000   1000.000000   \n",
              "mean                  2.845000     35.546000   \n",
              "std                   1.103718     11.375469   \n",
              "min                   1.000000     19.000000   \n",
              "25%                   2.000000     27.000000   \n",
              "50%                   3.000000     33.000000   \n",
              "75%                   4.000000     42.000000   \n",
              "max                   4.000000     75.000000   \n",
              "\n",
              "       Number of existing credits at this bank  \\\n",
              "count                              1000.000000   \n",
              "mean                                  1.407000   \n",
              "std                                   0.577654   \n",
              "min                                   1.000000   \n",
              "25%                                   1.000000   \n",
              "50%                                   1.000000   \n",
              "75%                                   2.000000   \n",
              "max                                   4.000000   \n",
              "\n",
              "       Number of people being liable to provide maintenance for        label  \n",
              "count                                        1000.000000         1000.000000  \n",
              "mean                                            1.155000            1.300000  \n",
              "std                                             0.362086            0.458487  \n",
              "min                                             1.000000            1.000000  \n",
              "25%                                             1.000000            1.000000  \n",
              "50%                                             1.000000            1.000000  \n",
              "75%                                             1.000000            2.000000  \n",
              "max                                             2.000000            2.000000  "
            ]
          },
          "execution_count": 64,
          "metadata": {},
          "output_type": "execute_result"
        }
      ],
      "source": [
        "# making statistics of all numeric data in the dataset\n",
        "db.describe()"
      ]
    },
    {
      "cell_type": "code",
      "execution_count": null,
      "metadata": {
        "colab": {
          "base_uri": "https://localhost:8080/"
        },
        "id": "atKOLVj-ERt2",
        "outputId": "7befd81b-1180-47f1-8036-be327486e8a5"
      },
      "outputs": [
        {
          "data": {
            "text/plain": [
              "status of existing checking account                         0\n",
              "Duration in months                                          0\n",
              "Credit History                                              0\n",
              "Purpose                                                     0\n",
              "Credit Amount                                               0\n",
              "Savings account/bonds                                       0\n",
              "Present employement since                                   0\n",
              "installement rate in percentage of disposable income        0\n",
              "Personal status and sex                                     0\n",
              "other debtors/guarantors                                    0\n",
              "present residence since                                     0\n",
              "Property                                                    0\n",
              "Age in years                                                0\n",
              "other installment plans                                     0\n",
              "Housing                                                     0\n",
              "Number of existing credits at this bank                     0\n",
              "Job                                                         0\n",
              "Number of people being liable to provide maintenance for    0\n",
              "Telephone                                                   0\n",
              "foreign worker                                              0\n",
              "label                                                       0\n",
              "dtype: int64"
            ]
          },
          "execution_count": 65,
          "metadata": {},
          "output_type": "execute_result"
        }
      ],
      "source": [
        "# check the null values\n",
        "db.isnull().sum() # db.isna().sum()"
      ]
    },
    {
      "cell_type": "code",
      "execution_count": null,
      "metadata": {
        "colab": {
          "base_uri": "https://localhost:8080/"
        },
        "id": "4hHLPAGCGbsh",
        "outputId": "e07b0dcb-727c-47b3-fd23-be9b40eedf64"
      },
      "outputs": [
        {
          "data": {
            "text/plain": [
              "0"
            ]
          },
          "execution_count": 66,
          "metadata": {},
          "output_type": "execute_result"
        }
      ],
      "source": [
        "# check the duplicates\n",
        "db.duplicated().sum()"
      ]
    },
    {
      "cell_type": "code",
      "source": [
        "from sklearn.feature_selection import RFE\n"
      ],
      "metadata": {
        "id": "8kq8CjKtVunc"
      },
      "execution_count": null,
      "outputs": []
    },
    {
      "cell_type": "markdown",
      "metadata": {
        "id": "IqJyANFgKxrb"
      },
      "source": [
        "#### <center> **Data transformation** </center>"
      ]
    },
    {
      "cell_type": "code",
      "execution_count": 52,
      "metadata": {
        "id": "dNTHDjxM_5fv"
      },
      "outputs": [],
      "source": [
        "db['Personal status and sex'] = db['Personal status and sex'].replace(['A93', 'A92', 'A91', 'A94'], [0, 1, 2, 3])\n",
        "db['foreign worker'] = db['foreign worker'].replace(['A201', 'A202'], [1, 0])\n",
        "db['Savings account/bonds'] = db['Savings account/bonds'].replace(['A61', 'A62', 'A63', 'A64', 'A65'], [1, 2, 3, 4, 0])\n",
        "db['status of existing checking account'] = db['status of existing checking account'].replace(['A11', 'A12', 'A13', 'A14'], [1, 2, 3, 4])"
      ]
    },
    {
      "cell_type": "code",
      "execution_count": 53,
      "metadata": {
        "id": "wh1Z8vXBGm1_"
      },
      "outputs": [],
      "source": [
        "# specify the data we need to train the model\n",
        "X = db[['status of existing checking account', \"Duration in months\", \"Credit Amount\", 'Savings account/bonds', \"installement rate in percentage of disposable income\", 'Personal status and sex', \"present residence since\", \"Age in years\", \"Number of existing credits at this bank\", \"Number of people being liable to provide maintenance for\", 'foreign worker']]\n",
        "Y = db['label']"
      ]
    },
    {
      "cell_type": "markdown",
      "source": [
        "#### <center> **Data normalisation** </center>"
      ],
      "metadata": {
        "id": "q8AY4gAwHV3P"
      }
    },
    {
      "cell_type": "code",
      "execution_count": 57,
      "metadata": {
        "id": "69tbRoaeLpDU"
      },
      "outputs": [],
      "source": [
        "from sklearn.preprocessing import MinMaxScaler"
      ]
    },
    {
      "cell_type": "code",
      "execution_count": 89,
      "metadata": {
        "id": "MsBjxjgiJ437"
      },
      "outputs": [],
      "source": [
        "scaler = MinMaxScaler()\n",
        "scaler.fit(X)\n",
        "X = scaler.transform(X)"
      ]
    },
    {
      "cell_type": "markdown",
      "metadata": {
        "id": "4PHMApuvdE4y"
      },
      "source": [
        "## <center>**Data visualization**</center>"
      ]
    },
    {
      "cell_type": "code",
      "execution_count": null,
      "metadata": {
        "id": "MPgbTJSsb3fK"
      },
      "outputs": [],
      "source": [
        "import seaborn as sns\n",
        "sns.set(style=\"ticks\", color_codes=True)\n",
        "import matplotlib.pyplot as plt"
      ]
    },
    {
      "cell_type": "code",
      "execution_count": null,
      "metadata": {
        "colab": {
          "base_uri": "https://localhost:8080/",
          "height": 234
        },
        "id": "zUd4veMuyine",
        "outputId": "b0644b23-29d3-4346-b566-441c47b945f2"
      },
      "outputs": [
        {
          "name": "stderr",
          "output_type": "stream",
          "text": [
            "/usr/local/lib/python3.9/dist-packages/seaborn/axisgrid.py:712: UserWarning: Using the countplot function without specifying `order` is likely to produce an incorrect plot.\n",
            "  warnings.warn(warning)\n"
          ]
        },
        {
          "data": {
            "text/plain": [
              "<seaborn.axisgrid.FacetGrid at 0x7f445251a4f0>"
            ]
          },
          "execution_count": 12,
          "metadata": {},
          "output_type": "execute_result"
        },
        {
          "data": {
            "image/png": "[encoded data removed]",
            "text/plain": [
              "<Figure size 2880x360 with 2 Axes>"
            ]
          },
          "metadata": {},
          "output_type": "display_data"
        }
      ],
      "source": [
        "graph = sns.FacetGrid(db, col = 'label', aspect=4, height=5)\n",
        "graph.map(sns.countplot, 'Age in years')"
      ]
    },
    {
      "cell_type": "code",
      "execution_count": null,
      "metadata": {
        "colab": {
          "base_uri": "https://localhost:8080/",
          "height": 417
        },
        "id": "GjAIYBi61USH",
        "outputId": "eb9e698d-843f-4cd2-da5c-4e2f40adfcda"
      },
      "outputs": [
        {
          "name": "stderr",
          "output_type": "stream",
          "text": [
            "/usr/local/lib/python3.9/dist-packages/seaborn/axisgrid.py:712: UserWarning: Using the countplot function without specifying `order` is likely to produce an incorrect plot.\n",
            "  warnings.warn(warning)\n"
          ]
        },
        {
          "data": {
            "text/plain": [
              "<seaborn.axisgrid.FacetGrid at 0x7f445207cd90>"
            ]
          },
          "execution_count": 14,
          "metadata": {},
          "output_type": "execute_result"
        },
        {
          "data": {
            "image/png": "[encoded data removed]",
            "text/plain": [
              "<Figure size 1080x360 with 2 Axes>"
            ]
          },
          "metadata": {},
          "output_type": "display_data"
        }
      ],
      "source": [
        "graph = sns.FacetGrid(db, col = 'label', aspect=1.5, height=5)\n",
        "graph.map(sns.countplot, 'Personal status and sex', color = 'red')"
      ]
    },
    {
      "cell_type": "code",
      "execution_count": null,
      "metadata": {
        "colab": {
          "base_uri": "https://localhost:8080/",
          "height": 386
        },
        "id": "0HgOkggfgezA",
        "outputId": "c5ec041f-6660-47ea-bdff-6c6292ea594d"
      },
      "outputs": [
        {
          "data": {
            "text/plain": [
              "<seaborn.axisgrid.FacetGrid at 0x7f0744c08f40>"
            ]
          },
          "execution_count": 66,
          "metadata": {},
          "output_type": "execute_result"
        },
        {
          "data": {
            "image/png": "[encoded data removed]",
            "text/plain": [
              "<Figure size 360x360 with 1 Axes>"
            ]
          },
          "metadata": {
            "needs_background": "light"
          },
          "output_type": "display_data"
        }
      ],
      "source": [
        "sns.displot(db['Age in years'])"
      ]
    },
    {
      "cell_type": "code",
      "execution_count": null,
      "metadata": {
        "colab": {
          "base_uri": "https://localhost:8080/",
          "height": 296
        },
        "id": "yaOtbRoAfn4b",
        "outputId": "8ea96350-7dbd-4ca2-fbd7-ee93cdeab55c"
      },
      "outputs": [
        {
          "data": {
            "text/plain": [
              "<Axes: xlabel='Personal status and sex', ylabel='count'>"
            ]
          },
          "execution_count": 61,
          "metadata": {},
          "output_type": "execute_result"
        },
        {
          "data": {
            "image/png": "[encoded data removed]",
            "text/plain": [
              "<Figure size 432x288 with 1 Axes>"
            ]
          },
          "metadata": {
            "needs_background": "light"
          },
          "output_type": "display_data"
        }
      ],
      "source": [
        "sns.countplot(x = 'Personal status and sex', data = db)"
      ]
    },
    {
      "cell_type": "code",
      "execution_count": null,
      "metadata": {
        "colab": {
          "base_uri": "https://localhost:8080/",
          "height": 296
        },
        "id": "1uOqrC2mgX0e",
        "outputId": "df468ac5-4ce6-4a20-f978-ef92e77de199"
      },
      "outputs": [
        {
          "data": {
            "text/plain": [
              "<Axes: xlabel='label', ylabel='count'>"
            ]
          },
          "execution_count": 67,
          "metadata": {},
          "output_type": "execute_result"
        },
        {
          "data": {
            "image/png": "[encoded data removed]",
            "text/plain": [
              "<Figure size 432x288 with 1 Axes>"
            ]
          },
          "metadata": {
            "needs_background": "light"
          },
          "output_type": "display_data"
        }
      ],
      "source": [
        "sns.countplot(x = 'label', data = db)"
      ]
    },
    {
      "cell_type": "markdown",
      "metadata": {
        "id": "Q3iXeXgBOHex"
      },
      "source": [
        "## <center>**Machine learning model**</center>"
      ]
    },
    {
      "cell_type": "code",
      "execution_count": 59,
      "metadata": {
        "id": "lndevkHCSaTC"
      },
      "outputs": [],
      "source": [
        "from sklearn.linear_model import LogisticRegression\n",
        "from sklearn.naive_bayes import GaussianNB\n",
        "from sklearn.svm import SVC\n",
        "from sklearn.model_selection import train_test_split, KFold\n",
        "from sklearn.model_selection import cross_val_score"
      ]
    },
    {
      "cell_type": "code",
      "execution_count": 90,
      "metadata": {
        "colab": {
          "base_uri": "https://localhost:8080/"
        },
        "id": "nVwDt_GQQ0Mp",
        "outputId": "8d3af152-1c17-47ce-df20-7fa138766ffb"
      },
      "outputs": [
        {
          "output_type": "stream",
          "name": "stdout",
          "text": [
            "(800, 11)\n",
            "(200, 11)\n",
            "(800,)\n",
            "(200,)\n"
          ]
        }
      ],
      "source": [
        "# split the data into train and test\n",
        "x_train, x_test, y_train, y_test = train_test_split(X, Y, train_size = 0.8, random_state = 50)\n",
        "print(x_train.shape)\n",
        "print(x_test.shape)\n",
        "print(y_train.shape)\n",
        "print(y_test.shape)"
      ]
    },
    {
      "cell_type": "code",
      "execution_count": 91,
      "metadata": {
        "id": "prKu0UOuUVKX"
      },
      "outputs": [],
      "source": [
        "models = {\n",
        "    'LogisticRegression' : LogisticRegression(random_state = 25),\n",
        "    'GaussianNBS' : GaussianNB(),\n",
        "    'SVC' : SVC(kernel='rbf', probability=False)\n",
        "}"
      ]
    },
    {
      "cell_type": "code",
      "execution_count": 92,
      "metadata": {
        "id": "GOZMOZ_4ZC-g"
      },
      "outputs": [],
      "source": [
        "from sklearn.metrics import precision_score, recall_score , accuracy_score, confusion_matrix\n",
        "\n",
        "def metrics(y_true, y_predict, retur = False):\n",
        "    pre = precision_score(y_true, y_predict, average = 'macro')\n",
        "    rec = recall_score(y_true, y_predict, average = 'macro')\n",
        "    accuracy = accuracy_score(y_true, y_predict)\n",
        "    if retur :\n",
        "      return pre, rec, accuracy_score\n",
        "    else:\n",
        "      print('precision : ', pre)\n",
        "      print('recall : ', rec)\n",
        "      print('accuracy : ', accuracy)"
      ]
    },
    {
      "cell_type": "code",
      "execution_count": 93,
      "metadata": {
        "id": "v9vCqlO7y1wD"
      },
      "outputs": [],
      "source": [
        "def train_and_evaluate(models, x, y):\n",
        "  for name, model in models.items():\n",
        "    print(name, ':')\n",
        "    model.fit(x,y)\n",
        "    metrics(y, model.predict(x))\n",
        "    print(\"*\" * 30)"
      ]
    },
    {
      "cell_type": "code",
      "execution_count": 94,
      "metadata": {
        "colab": {
          "base_uri": "https://localhost:8080/"
        },
        "id": "jhehHpTPz_5m",
        "outputId": "05edcb4e-b4a7-4d83-851f-af9987368a9e"
      },
      "outputs": [
        {
          "output_type": "stream",
          "name": "stdout",
          "text": [
            "LogisticRegression :\n",
            "precision :  0.7164963470933621\n",
            "recall :  0.6448014329503639\n",
            "accuracy :  0.75625\n",
            "******************************\n",
            "GaussianNBS :\n",
            "precision :  0.6858376233376233\n",
            "recall :  0.7077778027594788\n",
            "accuracy :  0.72625\n",
            "******************************\n",
            "SVC :\n",
            "precision :  0.7559537140724151\n",
            "recall :  0.6284746423244973\n",
            "accuracy :  0.7625\n",
            "******************************\n"
          ]
        }
      ],
      "source": [
        "train_and_evaluate(models,x_train, y_train)"
      ]
    },
    {
      "cell_type": "code",
      "execution_count": 111,
      "metadata": {
        "colab": {
          "base_uri": "https://localhost:8080/"
        },
        "id": "OMlQiOFd4CTF",
        "outputId": "77d55930-4eaf-4ae5-c232-f72e74c0f7a0"
      },
      "outputs": [
        {
          "output_type": "execute_result",
          "data": {
            "text/plain": [
              "array([1, 1, 1, 2, 1, 1, 2, 2, 1, 1, 1, 1, 1, 1, 1, 2, 1, 1, 1, 1, 1, 1,\n",
              "       1, 1, 1, 1, 2, 1, 2, 1, 1, 1, 1, 1, 1, 1, 1, 1, 1, 1, 1, 1, 1, 1,\n",
              "       1, 1, 1, 1, 1, 1, 1, 1, 1, 1, 1, 1, 2, 1, 1, 1, 1, 2, 1, 1, 2, 2,\n",
              "       2, 1, 1, 1, 1, 1, 1, 2, 1, 1, 1, 1, 1, 1, 1, 1, 1, 1, 1, 2, 1, 1,\n",
              "       1, 2, 1, 1, 1, 1, 1, 1, 1, 1, 1, 1, 2, 1, 2, 1, 2, 2, 1, 1, 1, 1,\n",
              "       1, 1, 1, 1, 1, 1, 1, 1, 1, 1, 2, 1, 1, 2, 1, 1, 1, 1, 1, 1, 1, 2,\n",
              "       1, 1, 2, 2, 1, 1, 1, 1, 1, 1, 1, 1, 1, 1, 1, 2, 2, 1, 1, 1, 1, 1,\n",
              "       1, 1, 1, 1, 1, 1, 1, 1, 1, 1, 1, 1, 1, 1, 1, 2, 1, 1, 1, 2, 1, 1,\n",
              "       1, 1, 1, 2, 1, 1, 1, 1, 1, 1, 1, 1, 1, 1, 2, 1, 1, 2, 1, 1, 1, 1,\n",
              "       1, 1])"
            ]
          },
          "metadata": {},
          "execution_count": 111
        }
      ],
      "source": [
        "# building the model we chose to make predictions\n",
        "model = LogisticRegression(random_state = 25)\n",
        "model.fit(x_train, y_train)\n",
        "model.score(x_train, y_train) # coefficient of determination R**2\n",
        "model.predict(x_test)"
      ]
    },
    {
      "cell_type": "code",
      "source": [
        "def cross_validation_kfold(models, x, y, k):\n",
        "  cross_val = KFold(k)\n",
        "  for name, model in models.items():\n",
        "    print(name, ':')\n",
        "    scores = cross_val_score(model , x , y , cv = cross_val) # score for each iteration\n",
        "    for i, v in enumerate(scores):\n",
        "      print(f\"Score of test part {i} : {v}\")\n",
        "    print(\"*\"*50)"
      ],
      "metadata": {
        "id": "xKf_VMkM2kia"
      },
      "execution_count": 116,
      "outputs": []
    },
    {
      "cell_type": "code",
      "source": [
        "cross_validation_kfold(models, X, Y, 5)"
      ],
      "metadata": {
        "id": "fQ9_89Z42-4o",
        "outputId": "6bd70764-8ebd-42a5-a9b3-3afb67a184fd",
        "colab": {
          "base_uri": "https://localhost:8080/"
        }
      },
      "execution_count": 117,
      "outputs": [
        {
          "output_type": "stream",
          "name": "stdout",
          "text": [
            "LogisticRegression :\n",
            "Score of test part 0 : 0.745\n",
            "Score of test part 1 : 0.765\n",
            "Score of test part 2 : 0.725\n",
            "Score of test part 3 : 0.715\n",
            "Score of test part 4 : 0.725\n",
            "**************************************************\n",
            "GaussianNBS :\n",
            "Score of test part 0 : 0.73\n",
            "Score of test part 1 : 0.675\n",
            "Score of test part 2 : 0.705\n",
            "Score of test part 3 : 0.715\n",
            "Score of test part 4 : 0.65\n",
            "**************************************************\n",
            "SVC :\n",
            "Score of test part 0 : 0.765\n",
            "Score of test part 1 : 0.755\n",
            "Score of test part 2 : 0.7\n",
            "Score of test part 3 : 0.72\n",
            "Score of test part 4 : 0.71\n",
            "**************************************************\n"
          ]
        }
      ]
    },
    {
      "cell_type": "markdown",
      "source": [
        "## <center>**Balance data**</center>"
      ],
      "metadata": {
        "id": "HC0aPdIhF-p1"
      }
    },
    {
      "cell_type": "code",
      "source": [
        "# Random undersampling to balance the classes\n",
        "from imblearn.under_sampling import RandomUnderSampler\n",
        "undersample = RandomUnderSampler(sampling_strategy='majority')\n",
        "X_over_ru, y_over_ru = undersample.fit_resample(X, Y)"
      ],
      "metadata": {
        "id": "e-7S3YS3HBhD"
      },
      "execution_count": null,
      "outputs": []
    },
    {
      "cell_type": "code",
      "source": [
        "# NearMiss undersampling to balance the classes\n",
        "from imblearn.under_sampling import NearMiss\n",
        "undrsample = NearMiss(version = 2, n_neighbors=3)\n",
        "X_over_nm, y_over_nm = undersample.fit_resample(X, Y)"
      ],
      "metadata": {
        "id": "P2vMYZHKHCZP"
      },
      "execution_count": null,
      "outputs": []
    },
    {
      "cell_type": "code",
      "source": [
        "# ClusterCentroids undersampling to balance the classes\n",
        "from imblearn.under_sampling import ClusterCentroids\n",
        "undersample = ClusterCentroids(sampling_strategy='auto')\n",
        "X_over_cc, y_over_cc = undersample.fit_resample(X, Y)"
      ],
      "metadata": {
        "id": "z_3A_UsFHJiQ"
      },
      "execution_count": null,
      "outputs": []
    },
    {
      "cell_type": "code",
      "source": [
        "cross_validation_kfold(models, X_over_nm, y_over_nm, 5)"
      ],
      "metadata": {
        "id": "qal5mM8eF5LZ",
        "outputId": "cd9f8f58-689b-433e-f0c1-848bfe142e35",
        "colab": {
          "base_uri": "https://localhost:8080/"
        }
      },
      "execution_count": 120,
      "outputs": [
        {
          "output_type": "stream",
          "name": "stdout",
          "text": [
            "LogisticRegression :\n",
            "Score of test part 0 : 0.5\n",
            "Score of test part 1 : 0.49166666666666664\n",
            "Score of test part 2 : 0.6833333333333333\n",
            "Score of test part 3 : 0.525\n",
            "Score of test part 4 : 0.5\n",
            "**************************************************\n",
            "GaussianNBS :\n",
            "Score of test part 0 : 0.5333333333333333\n",
            "Score of test part 1 : 0.5\n",
            "Score of test part 2 : 0.6583333333333333\n",
            "Score of test part 3 : 0.575\n",
            "Score of test part 4 : 0.6916666666666667\n",
            "**************************************************\n",
            "SVC :\n"
          ]
        },
        {
          "output_type": "stream",
          "name": "stderr",
          "text": [
            "/usr/local/lib/python3.9/dist-packages/sklearn/linear_model/_logistic.py:458: ConvergenceWarning: lbfgs failed to converge (status=1):\n",
            "STOP: TOTAL NO. of ITERATIONS REACHED LIMIT.\n",
            "\n",
            "Increase the number of iterations (max_iter) or scale the data as shown in:\n",
            "    https://scikit-learn.org/stable/modules/preprocessing.html\n",
            "Please also refer to the documentation for alternative solver options:\n",
            "    https://scikit-learn.org/stable/modules/linear_model.html#logistic-regression\n",
            "  n_iter_i = _check_optimize_result(\n",
            "/usr/local/lib/python3.9/dist-packages/sklearn/linear_model/_logistic.py:458: ConvergenceWarning: lbfgs failed to converge (status=1):\n",
            "STOP: TOTAL NO. of ITERATIONS REACHED LIMIT.\n",
            "\n",
            "Increase the number of iterations (max_iter) or scale the data as shown in:\n",
            "    https://scikit-learn.org/stable/modules/preprocessing.html\n",
            "Please also refer to the documentation for alternative solver options:\n",
            "    https://scikit-learn.org/stable/modules/linear_model.html#logistic-regression\n",
            "  n_iter_i = _check_optimize_result(\n"
          ]
        },
        {
          "output_type": "stream",
          "name": "stdout",
          "text": [
            "Score of test part 0 : 0.0\n",
            "Score of test part 1 : 0.0\n",
            "Score of test part 2 : 0.6\n",
            "Score of test part 3 : 0.21666666666666667\n",
            "Score of test part 4 : 0.16666666666666666\n",
            "**************************************************\n"
          ]
        }
      ]
    }
  ],
  "metadata": {
    "colab": {
      "provenance": []
    },
    "kernelspec": {
      "display_name": "Python 3",
      "name": "python3"
    },
    "language_info": {
      "name": "python"
    }
  },
  "nbformat": 4,
  "nbformat_minor": 0
}